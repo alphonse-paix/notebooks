{
 "cells": [
  {
   "cell_type": "code",
   "execution_count": 1,
   "metadata": {},
   "outputs": [
    {
     "data": {
      "text/plain": [
       "['.gitignore', 'data', 'data.ipynb', 'data.pkl', 'pkl.ipynb']"
      ]
     },
     "execution_count": 1,
     "metadata": {},
     "output_type": "execute_result"
    }
   ],
   "source": [
    "import os\n",
    "import pandas as pd\n",
    "import pickle\n",
    "import shutil\n",
    "\n",
    "dirname = \"data\"\n",
    "filename = \"data.pkl\"\n",
    "\n",
    "os.chdir(dirname)\n",
    "\n",
    "seqs = []\n",
    "\n",
    "for file in os.listdir():\n",
    "    data = pd.read_csv(file, index_col=0)\n",
    "    seqs.append(data)\n",
    "\n",
    "with open(\"../\" + filename, \"wb\") as f:\n",
    "    pickle.dump(seqs, f)\n",
    "\n",
    "os.chdir(\"..\")\n",
    "\n",
    "os.listdir()"
   ]
  }
 ],
 "metadata": {
  "kernelspec": {
   "display_name": "Python 3 (ipykernel)",
   "language": "python",
   "name": "python3"
  },
  "language_info": {
   "codemirror_mode": {
    "name": "ipython",
    "version": 3
   },
   "file_extension": ".py",
   "mimetype": "text/x-python",
   "name": "python",
   "nbconvert_exporter": "python",
   "pygments_lexer": "ipython3",
   "version": "3.10.11"
  }
 },
 "nbformat": 4,
 "nbformat_minor": 4
}
