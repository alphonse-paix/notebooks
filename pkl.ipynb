{
 "cells": [
  {
   "cell_type": "code",
   "execution_count": null,
   "metadata": {},
   "outputs": [],
   "source": [
    "import os\n",
    "import pandas as pd\n",
    "import pickle\n",
    "import shutil\n",
    "import subprocess\n",
    "import sys\n",
    "from pathlib import Path\n",
    "\n",
    "\n",
    "def etas(args=\"\"):\n",
    "    # data directory\n",
    "    cwd = \"data\"\n",
    "    try:\n",
    "        os.mkdir(cwd)\n",
    "    except:\n",
    "        pass\n",
    "\n",
    "    # program run\n",
    "    path = Path(r\"C:\\Users\\Alphonse\\Documents\\ETAS\\x64\\Release\\ETAS.exe\")\n",
    "    p = subprocess.Popen([path] + args.split(),\n",
    "                            stdout=subprocess.PIPE,\n",
    "                            cwd=cwd,\n",
    "                            universal_newlines=False)\n",
    "\n",
    "    # output\n",
    "    stdout = open(os.dup(p.stdout.fileno()), newline=\"\")\n",
    "    for line in stdout:\n",
    "        print(line, end=\"\") \n",
    "\n",
    "\n",
    "def gen_dataset(filename=\"dataset.pkl\", args=\"\"):\n",
    "    dirname = \"data_temp_seqs\"\n",
    "    etas(\"--generate_seqs --dirname \" + dirname + \" \" + args)\n",
    "\n",
    "    os.chdir(\"data/\" + dirname)\n",
    "    seqs = []\n",
    "    for file in os.listdir():\n",
    "        data = pd.read_csv(file, index_col=0)\n",
    "        seqs.append(data)\n",
    "        \n",
    "    with open(\"../\" + filename, \"wb\") as f:\n",
    "        pickle.dump(seqs, f)\n",
    "\n",
    "    os.chdir(\"..\")\n",
    "    shutil.rmtree(dirname)\n",
    "    os.chdir(\"..\")"
   ]
  },
  {
   "cell_type": "code",
   "execution_count": 8,
   "metadata": {},
   "outputs": [
    {
     "name": "stdout",
     "output_type": "stream",
     "text": [
      "Generating sequences...\n",
      "[========================================] 100% \n"
     ]
    }
   ],
   "source": [
    "create_pkl_dataset(\"mysuperdata.pkl\", \"--verbose\")"
   ]
  }
 ],
 "metadata": {
  "kernelspec": {
   "display_name": "tensorflow",
   "language": "python",
   "name": "python3"
  },
  "language_info": {
   "codemirror_mode": {
    "name": "ipython",
    "version": 3
   },
   "file_extension": ".py",
   "mimetype": "text/x-python",
   "name": "python",
   "nbconvert_exporter": "python",
   "pygments_lexer": "ipython3",
   "version": "3.10.11"
  },
  "orig_nbformat": 4
 },
 "nbformat": 4,
 "nbformat_minor": 2
}
