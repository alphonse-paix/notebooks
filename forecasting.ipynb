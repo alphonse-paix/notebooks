{
 "cells": [
  {
   "cell_type": "code",
   "execution_count": 1,
   "metadata": {},
   "outputs": [],
   "source": [
    "import matplotlib.pyplot as plt\n",
    "import numpy as np\n",
    "import pandas as pd\n",
    "import pickle\n",
    "from recast import *\n",
    "import tensorflow as tf"
   ]
  },
  {
   "cell_type": "code",
   "execution_count": 2,
   "metadata": {},
   "outputs": [
    {
     "name": "stdout",
     "output_type": "stream",
     "text": [
      "(100, 300)\n",
      "9.177464\n",
      "299\n",
      "Loss at epoch 0: -0.20\n",
      "Loss at epoch 10: -5.80\n",
      "Loss at epoch 20: -6.12\n",
      "Loss at epoch 30: -6.20\n",
      "Loss at epoch 40: -6.22\n"
     ]
    }
   ],
   "source": [
    "file = open(\"data/data.pkl\", \"rb\")\n",
    "data = pickle.load(file)\n",
    "t_end = 100\n",
    "arrival_times = []\n",
    "for df in data:\n",
    "    arrival_times.append(df.t.to_numpy())\n",
    "seq_lengths = [len(times) for times in arrival_times]\n",
    "inter_times_list = [np.diff(times, prepend=0, append=t_end)\n",
    "                    for times in arrival_times]\n",
    "inter_times = np.asarray([np.pad(inter_times, (0, np.max(seq_lengths) - size))\n",
    "        for size, inter_times in zip(seq_lengths, inter_times_list)])\n",
    "inter_times = tf.Variable(inter_times, dtype=tf.float32)\n",
    "print(inter_times.shape)\n",
    "print(np.max(inter_times))\n",
    "print(np.max(seq_lengths))\n",
    "model = Model(32, Gamma)\n",
    "model.fit(40, inter_times, seq_lengths, t_end)"
   ]
  },
  {
   "cell_type": "code",
   "execution_count": 3,
   "metadata": {},
   "outputs": [
    {
     "data": {
      "text/html": [
       "<div>\n",
       "<style scoped>\n",
       "    .dataframe tbody tr th:only-of-type {\n",
       "        vertical-align: middle;\n",
       "    }\n",
       "\n",
       "    .dataframe tbody tr th {\n",
       "        vertical-align: top;\n",
       "    }\n",
       "\n",
       "    .dataframe thead th {\n",
       "        text-align: right;\n",
       "    }\n",
       "</style>\n",
       "<table border=\"1\" class=\"dataframe\">\n",
       "  <thead>\n",
       "    <tr style=\"text-align: right;\">\n",
       "      <th></th>\n",
       "      <th>t</th>\n",
       "      <th>m</th>\n",
       "      <th>parent</th>\n",
       "    </tr>\n",
       "    <tr>\n",
       "      <th>id</th>\n",
       "      <th></th>\n",
       "      <th></th>\n",
       "      <th></th>\n",
       "    </tr>\n",
       "  </thead>\n",
       "  <tbody>\n",
       "    <tr>\n",
       "      <th>0</th>\n",
       "      <td>1.087036</td>\n",
       "      <td>0.106357</td>\n",
       "      <td>-1</td>\n",
       "    </tr>\n",
       "    <tr>\n",
       "      <th>1</th>\n",
       "      <td>2.488009</td>\n",
       "      <td>0.128327</td>\n",
       "      <td>-1</td>\n",
       "    </tr>\n",
       "    <tr>\n",
       "      <th>2</th>\n",
       "      <td>3.187125</td>\n",
       "      <td>0.672819</td>\n",
       "      <td>-1</td>\n",
       "    </tr>\n",
       "    <tr>\n",
       "      <th>3</th>\n",
       "      <td>3.687353</td>\n",
       "      <td>0.141267</td>\n",
       "      <td>-1</td>\n",
       "    </tr>\n",
       "    <tr>\n",
       "      <th>4</th>\n",
       "      <td>5.512234</td>\n",
       "      <td>1.031201</td>\n",
       "      <td>-1</td>\n",
       "    </tr>\n",
       "  </tbody>\n",
       "</table>\n",
       "</div>"
      ],
      "text/plain": [
       "           t         m  parent\n",
       "id                            \n",
       "0   1.087036  0.106357      -1\n",
       "1   2.488009  0.128327      -1\n",
       "2   3.187125  0.672819      -1\n",
       "3   3.687353  0.141267      -1\n",
       "4   5.512234  1.031201      -1"
      ]
     },
     "execution_count": 3,
     "metadata": {},
     "output_type": "execute_result"
    }
   ],
   "source": [
    "data = pd.read_csv(\"data/tmax50.csv\", index_col=0)\n",
    "data.head()"
   ]
  },
  {
   "cell_type": "code",
   "execution_count": 4,
   "metadata": {},
   "outputs": [
    {
     "data": {
      "text/plain": [
       "array([42.20170152, 42.9820225 , 43.03273702, 43.26746586, 43.57977019,\n",
       "       44.00543482, 45.07204057, 46.52741726, 47.23336622, 47.88137032])"
      ]
     },
     "execution_count": 4,
     "metadata": {},
     "output_type": "execute_result"
    }
   ],
   "source": [
    "arrival_times = data.t.to_numpy()\n",
    "arrival_times[-10:]"
   ]
  },
  {
   "cell_type": "code",
   "execution_count": 5,
   "metadata": {},
   "outputs": [
    {
     "data": {
      "text/plain": [
       "array([0.78032098, 0.05071452, 0.23472884, 0.31230433, 0.42566463,\n",
       "       1.06660576, 1.45537669, 0.70594896, 0.6480041 , 2.11862968])"
      ]
     },
     "execution_count": 5,
     "metadata": {},
     "output_type": "execute_result"
    }
   ],
   "source": [
    "inter_times = np.diff(arrival_times, prepend=0, append=50)\n",
    "inter_times[-10:]"
   ]
  }
 ],
 "metadata": {
  "kernelspec": {
   "display_name": "tensorflow",
   "language": "python",
   "name": "python3"
  },
  "language_info": {
   "codemirror_mode": {
    "name": "ipython",
    "version": 3
   },
   "file_extension": ".py",
   "mimetype": "text/x-python",
   "name": "python",
   "nbconvert_exporter": "python",
   "pygments_lexer": "ipython3",
   "version": "3.10.11"
  },
  "orig_nbformat": 4
 },
 "nbformat": 4,
 "nbformat_minor": 2
}
