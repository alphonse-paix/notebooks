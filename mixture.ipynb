{
 "cells": [
  {
   "cell_type": "code",
   "execution_count": 1,
   "metadata": {},
   "outputs": [],
   "source": [
    "import numpy as np\n",
    "import tensorflow as tf"
   ]
  },
  {
   "cell_type": "code",
   "execution_count": 2,
   "metadata": {},
   "outputs": [],
   "source": [
    "class Weibull:\n",
    "    def __init__(self, b, k, eps=1e-8):\n",
    "        self.b = tf.constant(b, dtype=tf.float32)\n",
    "        self.k = tf.constant(k, dtype=tf.float32)\n",
    "        self.eps = eps\n",
    "\n",
    "\n",
    "    def prob(self, x):\n",
    "        x = tf.clip_by_value(x, self.eps, tf.reduce_max(x))\n",
    "        return self.b * self.k * tf.math.pow(x, self.k - 1) \\\n",
    "            * tf.math.exp(-self.b * tf.math.pow(x, self.k))\n",
    "\n",
    "\n",
    "    def log_prob(self, x):\n",
    "        x = tf.clip_by_value(x, self.eps, tf.reduce_max(x))\n",
    "        return tf.math.log(self.b) + tf.math.log(self.k) \\\n",
    "            + (self.k - 1) * tf.math.log(x) - self.b * tf.math.pow(x, self.k)\n",
    "    \n",
    "\n",
    "    def log_survival(self, x):\n",
    "        x = tf.clip_by_value(x, self.eps, tf.reduce_max(x))\n",
    "        return -self.b * tf.math.pow(x, self.k)\n",
    "    \n",
    "\n",
    "    def sample(self, size=()):            \n",
    "        u = tf.random.uniform(minval=0,\n",
    "                              maxval=1,\n",
    "                              shape=self.b.shape + size,\n",
    "                              dtype=tf.float32)\n",
    "        y = -1 / self.b * tf.math.log(1 - u)\n",
    "        y = tf.clip_by_value(y, self.eps, tf.reduce_max(y))\n",
    "        return tf.math.pow(y, 1 / self.k).numpy()\n",
    "\n",
    "\n",
    "class WeibullMixture:\n",
    "    def __init__(self, w, b, k, eps=1e-8):\n",
    "        self.w = w\n",
    "        self.b = b\n",
    "        self.k = k\n",
    "        self.eps = eps\n",
    "\n",
    "\n",
    "    def prob(self, x):\n",
    "        x = tf.expand_dims(x, axis=0)\n",
    "        return tf.reduce_sum(self.w * Weibull(self.b, self.k).prob(x), axis=-1)\n",
    "    \n",
    "\n",
    "    def survival(self, x):\n",
    "        return tf.reduce_sum(self.w * Weibull(self.b, self.k).survival(x))\n",
    "    \n",
    "\n",
    "    def log_prob(self, x):\n",
    "        y = self.prob(x)\n",
    "        return tf.math.log(tf.clip_by_value(y, self.eps, tf.reduce_max(y)))\n",
    "    \n",
    "\n",
    "    def log_survival(self, x):\n",
    "        y = self.survival(x)\n",
    "        return tf.math.log(tf.clip_by_value(y, self.eps, tf.reduce_max(y)))"
   ]
  },
  {
   "cell_type": "code",
   "execution_count": 3,
   "metadata": {},
   "outputs": [],
   "source": [
    "w1 = Weibull(2.0, 3.0)\n",
    "w2 = Weibull(5.0, 2.0)\n",
    "\n",
    "weights = tf.constant([0.7, 0.3])\n",
    "b = tf.constant([2.0, 5.0])\n",
    "k = tf.constant([3.0, 2.0])\n",
    "wm = WeibullMixture(weights, b, k)"
   ]
  },
  {
   "cell_type": "code",
   "execution_count": 4,
   "metadata": {},
   "outputs": [
    {
     "data": {
      "text/plain": [
       "1.9029578e-06"
      ]
     },
     "execution_count": 4,
     "metadata": {},
     "output_type": "execute_result"
    }
   ],
   "source": [
    "x = 2.0\n",
    "(0.7 * w1.prob(x) + 0.3 * w2.prob(x)).numpy()"
   ]
  },
  {
   "cell_type": "code",
   "execution_count": 5,
   "metadata": {},
   "outputs": [
    {
     "data": {
      "text/plain": [
       "array([1.8905909e-06], dtype=float32)"
      ]
     },
     "execution_count": 5,
     "metadata": {},
     "output_type": "execute_result"
    }
   ],
   "source": [
    "# il faut que cette ligne renvoie la densité aux différents points\n",
    "# 2, 3 et 4 pour la compatibilité avec la loi de Weibull classique\n",
    "wm.prob([2.0, 3.0]).numpy()"
   ]
  }
 ],
 "metadata": {
  "kernelspec": {
   "display_name": "Python 3 (ipykernel)",
   "language": "python",
   "name": "python3"
  },
  "language_info": {
   "codemirror_mode": {
    "name": "ipython",
    "version": 3
   },
   "file_extension": ".py",
   "mimetype": "text/x-python",
   "name": "python",
   "nbconvert_exporter": "python",
   "pygments_lexer": "ipython3",
   "version": "3.10.11"
  }
 },
 "nbformat": 4,
 "nbformat_minor": 4
}
